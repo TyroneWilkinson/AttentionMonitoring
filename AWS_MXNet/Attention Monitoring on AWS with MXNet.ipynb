{
 "cells": [
  {
   "cell_type": "markdown",
   "metadata": {},
   "source": [
    "# [Attention Monitoring](https://nycdatascience.com/blog/student-works/attention-monitoring/) with Apache MXNet on AWS\n",
    "\n",
    "1. [Introduction](#Introduction)\n",
    "2. [Prerequisites and Preprocessing](#Prequisites-and-Preprocessing)\n",
    "3. [Fine-tuning the Image classification model](#Fine-tuning-the-Image-classification-model)\n",
    "4. [Training parameters](#Training-parameters)\n",
    "5. [Start the training](#Start-the-training)\n",
    "6. [Inference](#Inference)\n"
   ]
  },
  {
   "cell_type": "markdown",
   "metadata": {},
   "source": [
    "## Introduction\n",
    "\n",
    "This is an end-to-end example of an distributed image classification algorithm in transfer learning mode. I used the *SageMaker Image Classification Transfer Learning Highlevel* demo [notebook](https://github.com/aws/amazon-sagemaker-examples/blob/master/introduction_to_amazon_algorithms/imageclassification_caltech/Image-classification-transfer-learning-highlevel.ipynb) as a template.\n",
    "\n",
    "Here, the Amazon sagemaker image classification algorithm is used in transfer learning mode to fine-tune a pre-trained model (trained on imagenet data) to learn to classify a new dataset. In particular, the pre-trained model will be fine-tuned using my Attention Monitoring dataset. \n",
    "\n",
    "This notebook was tested in Amazon SageMaker Studio on ml.t3.medium instance with Python 3 (Data Science) kernel. *You should request a limit instance before running this notebook to avoid further delays. [Scroll down](#Start-the-training) for more information.*\n",
    "\n",
    "To get started, you need to set up the environment with a few prerequisite steps, for permissions, configurations, and so on."
   ]
  },
  {
   "cell_type": "markdown",
   "metadata": {},
   "source": [
    "## Prequisites and Preprocessing\n",
    "\n",
    "### Permissions and environment variables\n",
    "\n",
    "Here I set up the linkage and authentication to AWS services. There are three parts to this:\n",
    "\n",
    "* The roles used to give learning and hosting access to your data. This will automatically be obtained from the role used to start the notebook\n",
    "* The S3 bucket that you want to use for training and model data\n",
    "* The Amazon sagemaker image classification docker image which need not be changed"
   ]
  },
  {
   "cell_type": "markdown",
   "metadata": {},
   "source": [
    "**Note:** I followed the instructions listed [here](https://sagemaker-examples.readthedocs.io/en/latest/introduction_to_amazon_algorithms/imageclassification_caltech/Image-classification-lst-format.html#Prepare-the-data) to prepare the data for the image classification algorithm. I prepared the data locally then uploaded all of it, included the original images, to an S3 bucket, but it could be done in SageMaker.\n",
    "\n",
    "Using the [im2rec script](https://github.com/apache/incubator-mxnet/blob/master/tools/im2rec.py) from MXNet:\n",
    "- Commands to create the .lst files: \n",
    "    - python im2rec.py --list --recursive train ../data/train/\n",
    "    - python im2rec.py --list --recursive validation ../data/valid/\n",
    "    - python im2rec.py --list --recursive test ../data/test/\n",
    "- Commands to create the RecordIO files:\n",
    "    - python im2rec.py --resize 224 --quality 90 train ../data/train/\n",
    "    - python im2rec.py --resize 224 --quality 90 validation ../data/valid/\n",
    "    - python im2rec.py --resize 224 --quality 90 test ../data/test/"
   ]
  },
  {
   "cell_type": "markdown",
   "metadata": {},
   "source": [
    "**Note:** Both input and output buckets are now public:\n",
    "- Input: s3://attention-monitoring\n",
    "- Ouput: s3://sagemaker-us-east-2-090819523734/ic-transfer-learning/"
   ]
  },
  {
   "cell_type": "code",
   "execution_count": 1,
   "metadata": {},
   "outputs": [
    {
     "name": "stdout",
     "output_type": "stream",
     "text": [
      "arn:aws:iam::090819523734:role/service-role/AmazonSageMaker-ExecutionRole-20210810T160366\n",
      "CPU times: user 1.93 s, sys: 1.14 s, total: 3.08 s\n",
      "Wall time: 3.83 s\n"
     ]
    }
   ],
   "source": [
    "%%time\n",
    "import boto3\n",
    "import sagemaker\n",
    "from sagemaker import get_execution_role\n",
    "\n",
    "role = get_execution_role()\n",
    "print(role)\n",
    "\n",
    "region = boto3.Session().region_name\n",
    "\n",
    "s3_client = boto3.client(\"s3\")\n",
    "\n",
    "sess = sagemaker.Session()\n",
    "data_bucket = f\"attention-monitoring\"\n",
    "data_prefix = \"data/\"\n",
    "\n",
    "output_bucket = sess.default_bucket()\n",
    "output_prefix = \"ic-transfer-learning\"\n",
    "\n",
    "s3_client.download_file(\n",
    "    data_bucket, data_prefix + \"train.rec\", \"train.rec\"\n",
    ")\n",
    "s3_client.download_file(\n",
    "    data_bucket, data_prefix + \"validation.rec\", \"val.rec\"\n",
    ")\n",
    "\n",
    "s3_client.upload_file(\n",
    "    \"train.rec\", output_bucket, output_prefix + \"/train_rec/train.rec\"\n",
    ")\n",
    "s3_client.upload_file(\n",
    "    \"val.rec\",\n",
    "    output_bucket,\n",
    "    output_prefix + \"/validation_rec/val.rec\",\n",
    ")"
   ]
  },
  {
   "cell_type": "code",
   "execution_count": 2,
   "metadata": {},
   "outputs": [
    {
     "name": "stdout",
     "output_type": "stream",
     "text": [
      "825641698319.dkr.ecr.us-east-2.amazonaws.com/image-classification:1\n"
     ]
    }
   ],
   "source": [
    "from sagemaker import image_uris\n",
    "\n",
    "training_image = image_uris.retrieve(\"image-classification\", sess.boto_region_name)\n",
    "print(training_image)"
   ]
  },
  {
   "cell_type": "markdown",
   "metadata": {},
   "source": [
    "## Fine-tuning the Image classification model\n",
    "\n",
    "The Attention Monitoring data (s3://attention-monitoring/data/) consist of 10427 images from 2 classes.\n",
    "\n",
    "Here is how I partitioned the data:\n",
    "- Train: 7302 images belonging to 2 classes\n",
    "- Validate: 1561 images belonging to 2 classes.\n",
    "- Test: 1564 images belonging to 2 classes.\n",
    "\n",
    "The image classification algorithm can take two types of input formats. The first is a recordio format and the other is a lst format. Files for both formats are available at the s3 bucket I linked above. I used the recordio format for training in this notebook. "
   ]
  },
  {
   "cell_type": "code",
   "execution_count": 3,
   "metadata": {},
   "outputs": [],
   "source": [
    "import boto3\n",
    "\n",
    "s3train = f\"s3://{output_bucket}/{output_prefix}/train_rec/\"\n",
    "s3validation = f\"s3://{output_bucket}/{output_prefix}/validation_rec/\""
   ]
  },
  {
   "cell_type": "markdown",
   "metadata": {},
   "source": [
    "Once the data is available in the correct format for training, the next step is to actually train the model using the data. Before training the model, you need to setup the training parameters. The next section will explain the parameters in detail."
   ]
  },
  {
   "cell_type": "markdown",
   "metadata": {},
   "source": [
    "## Training\n",
    "Now that we are done with all the setup that is needed, we are ready to train our object detector. To begin, let I create a ``sageMaker.estimator.Estimator`` object. This estimator will launch the training job.\n",
    "### Training parameters\n",
    "There are two kinds of parameters that need to be set for training. The first one are the parameters for the training job. These include:\n",
    "\n",
    "* **Training instance count**: This is the number of instances on which to run the training. When the number of instances is greater than one, then the image classification algorithm will run in distributed settings. \n",
    "* **Training instance type**: This indicates the type of machine on which to run the training. Typically, GPU instances are used for these trainings. \n",
    "* **Output path**: This the s3 folder in which the training output is stored"
   ]
  },
  {
   "cell_type": "code",
   "execution_count": 4,
   "metadata": {},
   "outputs": [],
   "source": [
    "s3_output_location = f\"s3://{output_bucket}/{output_prefix}/output\"\n",
    "ic = sagemaker.estimator.Estimator(\n",
    "    training_image,\n",
    "    role,\n",
    "    instance_count=1,\n",
    "    instance_type=\"ml.p2.xlarge\",\n",
    "    volume_size=50,\n",
    "    max_run=360000,\n",
    "    input_mode=\"File\",\n",
    "    output_path=s3_output_location,\n",
    "    sagemaker_session=sess,\n",
    ")"
   ]
  },
  {
   "cell_type": "markdown",
   "metadata": {},
   "source": [
    "Apart from the above set of parameters, there are hyperparameters that are specific to the algorithm. These are:\n",
    "\n",
    "* **num_layers**: The number of layers (depth) for the network. I use 152 in this notebook but other values such as 18 and 50 can be used.\n",
    "* **use_pretrained_model**: Set to 1 to use pretrained model for transfer learning.\n",
    "* **image_shape**: The input image dimensions,'num_channels, height, width', for the network. It should be no larger than the actual image size. The number of channels should be same as the actual image.\n",
    "* **num_classes**: This is the number of output classes for the new dataset. Imagenet was trained with 1000 output classes but the number of output classes can be changed for fine-tuning. For attention-monitoring, I use 2 for the 2 categories: *attentive* and *notattentive*.\n",
    "* **num_training_samples**: This is the total number of training samples. It is set to 7302 for attention-monitoring dataset with the current split.\n",
    "* **mini_batch_size**: The number of training samples used for each mini batch. In distributed training, the number of training samples used per batch will be N * mini_batch_size where N is the number of hosts on which training is run.\n",
    "* **epochs**: Number of training epochs.\n",
    "* **learning_rate**: Learning rate for training.\n",
    "* **precision_dtype**: Training datatype precision (default: float32). If set to 'float16', the training will be done in mixed_precision mode and will be faster than float32 mode\n"
   ]
  },
  {
   "cell_type": "code",
   "execution_count": 5,
   "metadata": {
    "isConfigCell": true
   },
   "outputs": [],
   "source": [
    "ic.set_hyperparameters(\n",
    "    num_layers=152,\n",
    "    use_pretrained_model=1,\n",
    "    image_shape=\"3,224,224\",\n",
    "    num_classes=2,\n",
    "    num_training_samples=7302,\n",
    "    mini_batch_size=32,\n",
    "    epochs=2,\n",
    "    learning_rate=0.01,\n",
    "    precision_dtype=\"float32\",\n",
    ")"
   ]
  },
  {
   "cell_type": "markdown",
   "metadata": {},
   "source": [
    "## Input data specification\n",
    "Set the data type and channels used for training"
   ]
  },
  {
   "cell_type": "code",
   "execution_count": 6,
   "metadata": {},
   "outputs": [],
   "source": [
    "train_data = sagemaker.inputs.TrainingInput(\n",
    "    s3_data=s3train,\n",
    "    distribution=\"FullyReplicated\",\n",
    "    content_type=\"application/x-recordio\",\n",
    "    s3_data_type=\"S3Prefix\",\n",
    ")\n",
    "validation_data = sagemaker.inputs.TrainingInput(\n",
    "    s3_data=s3validation,\n",
    "    distribution=\"FullyReplicated\",\n",
    "    content_type=\"application/x-recordio\",\n",
    "    s3_data_type=\"S3Prefix\",\n",
    ")\n",
    "\n",
    "data_channels = {\"train\": train_data, \"validation\": validation_data}"
   ]
  },
  {
   "cell_type": "markdown",
   "metadata": {},
   "source": [
    "## Start the training\n",
    "Start training by calling the fit method in the estimator."
   ]
  },
  {
   "cell_type": "markdown",
   "metadata": {},
   "source": [
    "**NOTE**: You will likely receive the following error if you run the next cell: \n",
    "*ResourceLimitExceeded: An error occurred (ResourceLimitExceeded) when calling the CreateTrainingJob operation: The account-level service limit 'ml.p2.xlarge for training job usage' is 0 Instances, with current utilization of 0 Instances and a request delta of 1 Instances. Please contact AWS support to request an increase for this limit.*\n",
    "\n",
    "\n",
    "This is how to request a limit increase: \n",
    "1. Visit aws console https://console.aws.amazon.com/\n",
    "2. Vlick on Support on the top right corner\n",
    "3. Select Support Center\n",
    "4. Click create a case (orange button)\n",
    "5. Select Service Limit radio button\n",
    "6. Under **Case details**, for Limit type search and select SageMaker Training Jobs\n",
    "7. Under **Requests**, select the same region as the region that is displayed on the top right corner of your AWS Management Console.\n",
    "8. Select SageMaker Training as Resource Type\n",
    "9. Select ml.p2.xlarge in Limit\n",
    "10. Set New Limit Value to 1\n",
    "\n",
    "*I tweaked these instructions: https://medium.com/data-science-bootcamp/amazon-sagemaker-ml-p2-xlarge-8b9cbc0dd7d*\n",
    "\n",
    "It usually takes 24-48 hours to get the limit increase. Afterwards, run the next cell."
   ]
  },
  {
   "cell_type": "code",
   "execution_count": 7,
   "metadata": {},
   "outputs": [
    {
     "name": "stdout",
     "output_type": "stream",
     "text": [
      "2021-08-23 12:15:39 Starting - Starting the training job...\n",
      "2021-08-23 12:16:02 Starting - Launching requested ML instancesProfilerReport-1629720939: InProgress\n",
      "......\n",
      "2021-08-23 12:17:02 Starting - Preparing the instances for training.........\n",
      "2021-08-23 12:18:29 Downloading - Downloading input data...\n",
      "2021-08-23 12:19:02 Training - Downloading the training image.....\u001b[34mDocker entrypoint called with argument(s): train\u001b[0m\n",
      "\u001b[34m[08/23/2021 12:19:49 INFO 139918038857536] Reading default configuration from /opt/amazon/lib/python3.7/site-packages/image_classification/default-input.json: {'use_pretrained_model': 0, 'num_layers': 152, 'epochs': 30, 'learning_rate': 0.1, 'lr_scheduler_factor': 0.1, 'optimizer': 'sgd', 'momentum': 0, 'weight_decay': 0.0001, 'beta_1': 0.9, 'beta_2': 0.999, 'eps': 1e-08, 'gamma': 0.9, 'mini_batch_size': 32, 'image_shape': '3,224,224', 'precision_dtype': 'float32'}\u001b[0m\n",
      "\u001b[34m[08/23/2021 12:19:49 INFO 139918038857536] Merging with provided configuration from /opt/ml/input/config/hyperparameters.json: {'num_classes': '2', 'num_training_samples': '7302', 'use_pretrained_model': '1', 'precision_dtype': 'float32', 'num_layers': '152', 'epochs': '2', 'image_shape': '3,224,224', 'learning_rate': '0.01', 'mini_batch_size': '32'}\u001b[0m\n",
      "\u001b[34m[08/23/2021 12:19:49 INFO 139918038857536] Final configuration: {'use_pretrained_model': '1', 'num_layers': '152', 'epochs': '2', 'learning_rate': '0.01', 'lr_scheduler_factor': 0.1, 'optimizer': 'sgd', 'momentum': 0, 'weight_decay': 0.0001, 'beta_1': 0.9, 'beta_2': 0.999, 'eps': 1e-08, 'gamma': 0.9, 'mini_batch_size': '32', 'image_shape': '3,224,224', 'precision_dtype': 'float32', 'num_classes': '2', 'num_training_samples': '7302'}\u001b[0m\n",
      "\u001b[34m[08/23/2021 12:19:49 INFO 139918038857536] Searching for .rec files in /opt/ml/input/data/train.\u001b[0m\n",
      "\u001b[34m[08/23/2021 12:19:49 INFO 139918038857536] Searching for .rec files in /opt/ml/input/data/validation.\u001b[0m\n",
      "\u001b[34m[08/23/2021 12:19:49 INFO 139918038857536] use_pretrained_model: 1\u001b[0m\n",
      "\u001b[34m[08/23/2021 12:19:49 INFO 139918038857536] multi_label: 0\u001b[0m\n",
      "\u001b[34m[08/23/2021 12:19:49 INFO 139918038857536] Using pretrained model for initializing weights and transfer learning.\u001b[0m\n",
      "\u001b[34m[08/23/2021 12:19:49 INFO 139918038857536] ---- Parameters ----\u001b[0m\n",
      "\u001b[34m[08/23/2021 12:19:49 INFO 139918038857536] num_layers: 152\u001b[0m\n",
      "\u001b[34m[08/23/2021 12:19:49 INFO 139918038857536] data type: <class 'numpy.float32'>\u001b[0m\n",
      "\u001b[34m[08/23/2021 12:19:49 INFO 139918038857536] epochs: 2\u001b[0m\n",
      "\u001b[34m[08/23/2021 12:19:49 INFO 139918038857536] optimizer: sgd\u001b[0m\n",
      "\u001b[34m[08/23/2021 12:19:49 INFO 139918038857536] momentum: 0.9\u001b[0m\n",
      "\u001b[34m[08/23/2021 12:19:49 INFO 139918038857536] weight_decay: 0.0001\u001b[0m\n",
      "\u001b[34m[08/23/2021 12:19:49 INFO 139918038857536] learning_rate: 0.01\u001b[0m\n",
      "\u001b[34m[08/23/2021 12:19:49 INFO 139918038857536] num_training_samples: 7302\u001b[0m\n",
      "\u001b[34m[08/23/2021 12:19:49 INFO 139918038857536] mini_batch_size: 32\u001b[0m\n",
      "\u001b[34m[08/23/2021 12:19:49 INFO 139918038857536] image_shape: 3,224,224\u001b[0m\n",
      "\u001b[34m[08/23/2021 12:19:49 INFO 139918038857536] num_classes: 2\u001b[0m\n",
      "\u001b[34m[08/23/2021 12:19:49 INFO 139918038857536] augmentation_type: None\u001b[0m\n",
      "\u001b[34m[08/23/2021 12:19:49 INFO 139918038857536] kv_store: device\u001b[0m\n",
      "\u001b[34m[08/23/2021 12:19:49 INFO 139918038857536] checkpoint_frequency not set, will store the best model\u001b[0m\n",
      "\u001b[34m[08/23/2021 12:19:49 INFO 139918038857536] --------------------\u001b[0m\n",
      "\u001b[34m[12:19:49] /opt/brazil-pkg-cache/packages/AIAlgorithmsMXNet/AIAlgorithmsMXNet-1.3.x_ecl_Cuda_10.1.x.6753.0/AL2_x86_64/generic-flavor/src/src/nnvm/legacy_json_util.cc:209: Loading symbol saved by previous version v0.8.0. Attempting to upgrade...\u001b[0m\n",
      "\u001b[34m[12:19:49] /opt/brazil-pkg-cache/packages/AIAlgorithmsMXNet/AIAlgorithmsMXNet-1.3.x_ecl_Cuda_10.1.x.6753.0/AL2_x86_64/generic-flavor/src/src/nnvm/legacy_json_util.cc:217: Symbol successfully upgraded!\u001b[0m\n",
      "\u001b[34m[08/23/2021 12:19:50 INFO 139918038857536] Setting number of threads: 3\u001b[0m\n",
      "\n",
      "2021-08-23 12:20:03 Training - Training image download completed. Training in progress.\u001b[34m[12:19:59] /opt/brazil-pkg-cache/packages/AIAlgorithmsMXNet/AIAlgorithmsMXNet-1.3.x_ecl_Cuda_10.1.x.6753.0/AL2_x86_64/generic-flavor/src/src/operator/nn/./cudnn/./cudnn_algoreg-inl.h:97: Running performance tests to find the best convolution algorithm, this can take a while... (setting env variable MXNET_CUDNN_AUTOTUNE_DEFAULT to 0 to disable)\u001b[0m\n",
      "\u001b[34m[08/23/2021 12:20:38 INFO 139918038857536] Epoch[0] Batch [20]#011Speed: 16.015 samples/sec#011accuracy=0.708333\u001b[0m\n",
      "\u001b[34m[08/23/2021 12:21:09 INFO 139918038857536] Epoch[0] Batch [40]#011Speed: 18.254 samples/sec#011accuracy=0.721037\u001b[0m\n",
      "\u001b[34m[08/23/2021 12:21:39 INFO 139918038857536] Epoch[0] Batch [60]#011Speed: 19.120 samples/sec#011accuracy=0.755635\u001b[0m\n",
      "\u001b[34m[08/23/2021 12:22:10 INFO 139918038857536] Epoch[0] Batch [80]#011Speed: 19.430 samples/sec#011accuracy=0.779321\u001b[0m\n",
      "\u001b[34m[08/23/2021 12:22:41 INFO 139918038857536] Epoch[0] Batch [100]#011Speed: 19.707 samples/sec#011accuracy=0.796411\u001b[0m\n",
      "\u001b[34m[08/23/2021 12:23:12 INFO 139918038857536] Epoch[0] Batch [120]#011Speed: 19.866 samples/sec#011accuracy=0.804752\u001b[0m\n",
      "\u001b[34m[08/23/2021 12:23:42 INFO 139918038857536] Epoch[0] Batch [140]#011Speed: 19.990 samples/sec#011accuracy=0.816046\u001b[0m\n",
      "\u001b[34m[08/23/2021 12:24:13 INFO 139918038857536] Epoch[0] Batch [160]#011Speed: 20.088 samples/sec#011accuracy=0.824146\u001b[0m\n",
      "\u001b[34m[08/23/2021 12:24:44 INFO 139918038857536] Epoch[0] Batch [180]#011Speed: 20.150 samples/sec#011accuracy=0.828902\u001b[0m\n",
      "\u001b[34m[08/23/2021 12:25:15 INFO 139918038857536] Epoch[0] Batch [200]#011Speed: 20.211 samples/sec#011accuracy=0.836754\u001b[0m\n",
      "\u001b[34m[08/23/2021 12:25:46 INFO 139918038857536] Epoch[0] Batch [220]#011Speed: 20.258 samples/sec#011accuracy=0.843609\u001b[0m\n",
      "\u001b[34m[08/23/2021 12:25:57 INFO 139918038857536] Epoch[0] Train-accuracy=0.846354\u001b[0m\n",
      "\u001b[34m[08/23/2021 12:25:57 INFO 139918038857536] Epoch[0] Time cost=358.284\u001b[0m\n",
      "\u001b[34m[08/23/2021 12:26:23 INFO 139918038857536] Epoch[0] Validation-accuracy=0.834821\u001b[0m\n",
      "\u001b[34m[08/23/2021 12:26:23 INFO 139918038857536] Storing the best model with validation accuracy: 0.834821\u001b[0m\n",
      "\u001b[34m[08/23/2021 12:26:23 INFO 139918038857536] Saved checkpoint to \"/opt/ml/model/image-classification-0001.params\"\u001b[0m\n",
      "\u001b[34m[08/23/2021 12:26:55 INFO 139918038857536] Epoch[1] Batch [20]#011Speed: 20.375 samples/sec#011accuracy=0.906250\u001b[0m\n",
      "\u001b[34m[08/23/2021 12:27:26 INFO 139918038857536] Epoch[1] Batch [40]#011Speed: 20.508 samples/sec#011accuracy=0.903201\u001b[0m\n",
      "\u001b[34m[08/23/2021 12:27:57 INFO 139918038857536] Epoch[1] Batch [60]#011Speed: 20.555 samples/sec#011accuracy=0.910348\u001b[0m\n",
      "\u001b[34m[08/23/2021 12:28:28 INFO 139918038857536] Epoch[1] Batch [80]#011Speed: 20.457 samples/sec#011accuracy=0.909722\u001b[0m\n",
      "\u001b[34m[08/23/2021 12:28:59 INFO 139918038857536] Epoch[1] Batch [100]#011Speed: 20.502 samples/sec#011accuracy=0.914913\u001b[0m\n",
      "\u001b[34m[08/23/2021 12:29:31 INFO 139918038857536] Epoch[1] Batch [120]#011Speed: 20.445 samples/sec#011accuracy=0.917355\u001b[0m\n",
      "\u001b[34m[08/23/2021 12:30:02 INFO 139918038857536] Epoch[1] Batch [140]#011Speed: 20.478 samples/sec#011accuracy=0.914672\u001b[0m\n",
      "\u001b[34m[08/23/2021 12:30:33 INFO 139918038857536] Epoch[1] Batch [160]#011Speed: 20.509 samples/sec#011accuracy=0.915179\u001b[0m\n",
      "\u001b[34m[08/23/2021 12:31:04 INFO 139918038857536] Epoch[1] Batch [180]#011Speed: 20.546 samples/sec#011accuracy=0.916436\u001b[0m\n",
      "\u001b[34m[08/23/2021 12:31:35 INFO 139918038857536] Epoch[1] Batch [200]#011Speed: 20.551 samples/sec#011accuracy=0.919154\u001b[0m\n",
      "\u001b[34m[08/23/2021 12:32:06 INFO 139918038857536] Epoch[1] Batch [220]#011Speed: 20.536 samples/sec#011accuracy=0.921380\u001b[0m\n",
      "\u001b[34m[08/23/2021 12:32:17 INFO 139918038857536] Epoch[1] Train-accuracy=0.921601\u001b[0m\n",
      "\u001b[34m[08/23/2021 12:32:17 INFO 139918038857536] Epoch[1] Time cost=353.670\u001b[0m\n",
      "\n",
      "2021-08-23 12:32:46 Uploading - Uploading generated training model\u001b[34m[08/23/2021 12:32:43 INFO 139918038857536] Epoch[1] Validation-accuracy=0.901786\u001b[0m\n",
      "\u001b[34m[08/23/2021 12:32:43 INFO 139918038857536] Storing the best model with validation accuracy: 0.901786\u001b[0m\n",
      "\u001b[34m[08/23/2021 12:32:43 INFO 139918038857536] Saved checkpoint to \"/opt/ml/model/image-classification-0002.params\"\u001b[0m\n",
      "\n",
      "2021-08-23 12:33:46 Completed - Training job completed\n",
      "ProfilerReport-1629720939: NoIssuesFound\n",
      "Training seconds: 896\n",
      "Billable seconds: 896\n"
     ]
    }
   ],
   "source": [
    "ic.fit(inputs=data_channels, logs=True)"
   ]
  },
  {
   "cell_type": "markdown",
   "metadata": {},
   "source": [
    "# Inference\n",
    "\n",
    "***\n",
    "\n",
    "A trained model does nothing on its own. I now want to use the model to perform inference, that means predicting the class of the image. You can deploy the created model by using the deploy method in the estimator"
   ]
  },
  {
   "cell_type": "code",
   "execution_count": 8,
   "metadata": {},
   "outputs": [
    {
     "name": "stdout",
     "output_type": "stream",
     "text": [
      "---------------!"
     ]
    }
   ],
   "source": [
    "ic_classifier = ic.deploy(initial_instance_count=1, instance_type=\"ml.m4.xlarge\")"
   ]
  },
  {
   "cell_type": "markdown",
   "metadata": {},
   "source": [
    "### List of object categories"
   ]
  },
  {
   "cell_type": "code",
   "execution_count": 9,
   "metadata": {},
   "outputs": [],
   "source": [
    "object_categories = [ \"attentive\", \"notattentive\" ]"
   ]
  },
  {
   "cell_type": "markdown",
   "metadata": {},
   "source": [
    "### Download test image"
   ]
  },
  {
   "cell_type": "code",
   "execution_count": 10,
   "metadata": {},
   "outputs": [
    {
     "data": {
      "image/jpeg": "[encoded data removed]",
      "text/plain": [
       "<IPython.core.display.Image object>"
      ]
     },
     "execution_count": 10,
     "metadata": {},
     "output_type": "execute_result"
    }
   ],
   "source": [
    "# test image\n",
    "file_name = \"/tmp/test.jpg\"\n",
    "s3_client.download_file(\n",
    "    \"attention-monitoring\",\n",
    "    \"data/test_combined/0_000.jpg\",\n",
    "    file_name,\n",
    ")\n",
    "\n",
    "from IPython.display import Image\n",
    "\n",
    "Image(file_name)"
   ]
  },
  {
   "cell_type": "markdown",
   "metadata": {},
   "source": [
    "### Evaluation\n",
    "\n",
    "Evaluate the image through the network for inteference. The network outputs class probabilities and typically, one selects the class with the maximum probability as the final class output.\n",
    "\n",
    "**Note:** The output class detected by the network may not be accurate in this example. To limit the time taken and cost of training, I only trained the model only for a couple of epochs. If the network is trained for more epochs (say 20), then the output class will be more accurate."
   ]
  },
  {
   "cell_type": "code",
   "execution_count": 11,
   "metadata": {},
   "outputs": [
    {
     "name": "stdout",
     "output_type": "stream",
     "text": [
      "Result: label -  notattentive, probability - 0.5399425625801086\n"
     ]
    }
   ],
   "source": [
    "import json\n",
    "import numpy as np\n",
    "\n",
    "with open(file_name, \"rb\") as f:\n",
    "    payload = f.read()\n",
    "    payload = bytearray(payload)\n",
    "\n",
    "# Invoke the deployed model to compute prediction\n",
    "prediction = ic_classifier.predict(payload, initial_args={\"ContentType\": \"application/x-image\"})\n",
    "\n",
    "# prediction is a JSON string. Load it into a Python object.\n",
    "probabilities = json.loads(prediction)\n",
    "\n",
    "# find the class with maximum probability and print the class index\n",
    "predicted_category_index = np.argmax(probabilities)\n",
    "predicted_category_name = object_categories[predicted_category_index]\n",
    "confidence = probabilities[predicted_category_index]\n",
    "\n",
    "print(f\"Result: label -  {predicted_category_name}, probability - {confidence}\")"
   ]
  },
  {
   "cell_type": "markdown",
   "metadata": {},
   "source": [
    "### Clean up\n",
    "\n",
    "When you're done with the endpoint, you can just delete it and the backing instances will be released.  Run the following cell to delete the endpoint."
   ]
  },
  {
   "cell_type": "code",
   "execution_count": null,
   "metadata": {},
   "outputs": [],
   "source": [
    "ic_classifier.delete_endpoint()"
   ]
  }
 ],
 "metadata": {
  "instance_type": "ml.t3.medium",
  "kernelspec": {
   "display_name": "Python 3",
   "language": "python",
   "name": "python3"
  },
  "language_info": {
   "codemirror_mode": {
    "name": "ipython",
    "version": 3
   },
   "file_extension": ".py",
   "mimetype": "text/x-python",
   "name": "python",
   "nbconvert_exporter": "python",
   "pygments_lexer": "ipython3",
   "version": "3.8.5"
  },
  "notice": "Copyright 2018 Amazon.com, Inc. or its affiliates. All Rights Reserved.  Licensed under the Apache License, Version 2.0 (the \"License\"). You may not use this file except in compliance with the License. A copy of the License is located at http://aws.amazon.com/apache2.0/ or in the \"license\" file accompanying this file. This file is distributed on an \"AS IS\" BASIS, WITHOUT WARRANTIES OR CONDITIONS OF ANY KIND, either express or implied. See the License for the specific language governing permissions and limitations under the License."
 },
 "nbformat": 4,
 "nbformat_minor": 4
}
